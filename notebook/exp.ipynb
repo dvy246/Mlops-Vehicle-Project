{
 "cells": [
  {
   "cell_type": "code",
   "execution_count": null,
   "id": "81534509",
   "metadata": {},
   "outputs": [],
   "source": []
  }
 ],
 "metadata": {
  "kernelspec": {
   "display_name": "vehicle",
   "language": "python",
   "name": "python3"
  },
  "language_info": {
   "name": "python",
   "version": "3.10.18"
  }
 },
 "nbformat": 4,
 "nbformat_minor": 5
}
